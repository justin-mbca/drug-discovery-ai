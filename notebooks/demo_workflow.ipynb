{
 "cells": [
  {
   "cell_type": "markdown",
   "id": "fa631e43",
   "metadata": {},
   "source": [
    "# Drug Discovery AI Assistant: Demo Workflow\n",
    "This notebook demonstrates the end-to-end workflow of the Drug Discovery AI Assistant, including API usage and example outputs."
   ]
  },
  {
   "cell_type": "markdown",
   "id": "310117c7",
   "metadata": {},
   "source": [
    "## 1. Start the API Backend\n",
    "Make sure the FastAPI backend is running in a terminal:\n",
    "```bash\n",
    "uvicorn app.example_main:app --reload\n",
    "```"
   ]
  },
  {
   "cell_type": "markdown",
   "id": "ef434da1",
   "metadata": {},
   "source": [
    "## 2. Query the Full Workflow Endpoint\n",
    "We will use Python to send a request to the `/full_workflow` endpoint."
   ]
  },
  {
   "cell_type": "code",
   "execution_count": null,
   "id": "d0dd2543",
   "metadata": {},
   "outputs": [],
   "source": [
    "import requests\n",
    "query = 'aspirin'\n",
    "response = requests.get(f'http://127.0.0.1:8000/full_workflow?query={query}')\n",
    "result = response.json()\n",
    "result"
   ]
  },
  {
   "cell_type": "markdown",
   "id": "8d00f90b",
   "metadata": {},
   "source": [
    "## 3. Visualize and Interpret the Results\n",
    "Let's break down the output from each agent."
   ]
  },
  {
   "cell_type": "code",
   "execution_count": null,
   "id": "482ba1f4",
   "metadata": {},
   "outputs": [],
   "source": [
    "from pprint import pprint\n",
    "print('--- Discovery Agent ---')\n",
    "pprint(result.get('discovery'))\n",
    "print('\\n--- Design Agent ---')\n",
    "pprint(result.get('design'))\n",
    "print('\\n--- Validation Agent ---')\n",
    "pprint(result.get('validation'))\n",
    "print('\\n--- Approval Agent ---')\n",
    "pprint(result.get('approval'))"
   ]
  },
  {
   "cell_type": "markdown",
   "id": "650233ae",
   "metadata": {},
   "source": [
    "## 4. Example Output (Sample)\n",
    "Below is a sample output for the query `aspirin` (actual results may vary):\n",
    "```json\n",
    "{\n",
    "  \"discovery\": {\"literature\": [\"40886227\", ...], \"structure\": \"AlphaFold structure ...\", ...},\n",
    "  \"design\": {\"compound_info\": { ... }, ...},\n",
    "  \"validation\": {\"lab_result\": \"...\", ...},\n",
    "  \"approval\": {\"approval_report\": \"...\", ...}\n",
    "}\n",
    "```"
   ]
  },
  {
   "cell_type": "markdown",
   "id": "632428be",
   "metadata": {},
   "source": [
    "## 5. Next Steps\n",
    "- Try different queries (e.g., 'BACE1', 'Alzheimer disease').\n",
    "- Explore individual endpoints for each agent.\n",
    "- Extend the notebook to visualize results or benchmark performance."
   ]
  }
 ],
 "metadata": {
  "language_info": {
   "name": "python"
  }
 },
 "nbformat": 4,
 "nbformat_minor": 5
}
